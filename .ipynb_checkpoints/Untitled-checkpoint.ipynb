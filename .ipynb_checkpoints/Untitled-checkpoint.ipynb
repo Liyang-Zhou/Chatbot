{
 "cells": [
  {
   "cell_type": "code",
   "execution_count": 12,
   "metadata": {},
   "outputs": [
    {
     "data": {
      "text/plain": [
       "{'man': '../assets/sounds/man.wav',\n",
       " 'woman': '../assets/sounds/woman.wav',\n",
       " 'girl': '../assets/sounds/girl.wav',\n",
       " 'boy': '../assets/sounds/boy.wav',\n",
       " 'mother': '../assets/sounds/mother.wav',\n",
       " 'father': '../assets/sounds/father.wav',\n",
       " 'hello': '../assets/sounds/hello.wav',\n",
       " 'how are you?': '../assets/sounds/how are you?.wav',\n",
       " 'not too bad': '../assets/sounds/not too bad.wav',\n",
       " \"let's go\": \"../assets/sounds/let's go.wav\",\n",
       " 'yes': '../assets/sounds/yes.wav',\n",
       " 'no': '../assets/sounds/no.wav',\n",
       " 'hello friend': '../assets/sounds/hello friend.wav',\n",
       " \"i'm doing good. you?\": \"../assets/sounds/i'm doing good. you?.wav\",\n",
       " 'bathroom': '../assets/sounds/bathroom.wav',\n",
       " 'kitchen': '../assets/sounds/kitchen.wav',\n",
       " 'car': '../assets/sounds/car.wav',\n",
       " 'door': '../assets/sounds/door.wav',\n",
       " 'window': '../assets/sounds/window.wav',\n",
       " 'elevator': '../assets/sounds/elevator.wav',\n",
       " 'dog': '../assets/sounds/dog.wav',\n",
       " 'oranges': '../assets/sounds/oranges.wav',\n",
       " 'apples': '../assets/sounds/apples.wav',\n",
       " 'water': '../assets/sounds/water.wav',\n",
       " 'burger': '../assets/sounds/burger.wav',\n",
       " 'fish': '../assets/sounds/fish.wav',\n",
       " 'fries': '../assets/sounds/fries.wav',\n",
       " 'dessert': '../assets/sounds/dessert.wav',\n",
       " 'bread': '../assets/sounds/bread.wav',\n",
       " 'tea': '../assets/sounds/tea.wav',\n",
       " 'coffee': '../assets/sounds/coffee.wav',\n",
       " 'cafe': '../assets/sounds/cafe.wav',\n",
       " 'house': '../assets/sounds/house.wav',\n",
       " 'store': '../assets/sounds/store.wav',\n",
       " 'cinema': '../assets/sounds/cinema.wav',\n",
       " 'tipi': '../assets/sounds/tipi.wav',\n",
       " 'night club': '../assets/sounds/night club.wav',\n",
       " 'today': '../assets/sounds/today.wav',\n",
       " 'this morning': '../assets/sounds/this morning.wav',\n",
       " 'tomorrow': '../assets/sounds/tomorrow.wav',\n",
       " 'i will go': '../assets/sounds/i will go.wav',\n",
       " 'i will eat': '../assets/sounds/i will eat.wav',\n",
       " 'and': '../assets/sounds/and.wav',\n",
       " 'child': '../assets/sounds/child.wav',\n",
       " 'eggs': '../assets/sounds/eggs.wav',\n",
       " 'i went': '../assets/sounds/i went.wav',\n",
       " 'meat': '../assets/sounds/meat.wav',\n",
       " 'movie': '../assets/sounds/movie.wav',\n",
       " 'please pass the': '../assets/sounds/please pass the.wav',\n",
       " 'salt': '../assets/sounds/salt.wav',\n",
       " 'sugar': '../assets/sounds/sugar.wav',\n",
       " 'evening': '../assets/sounds/evening.wav',\n",
       " 'where': '../assets/sounds/where.wav',\n",
       " 'who': '../assets/sounds/who.wav',\n",
       " 'yesterday': '../assets/sounds/yesterday.wav'}"
      ]
     },
     "execution_count": 12,
     "metadata": {},
     "output_type": "execute_result"
    }
   ],
   "source": [
    "import json\n",
    "with open('allWords.json') as f:\n",
    "  word_dict = json.load(f)\n",
    "dic = {}\n",
    "arr = word_dict[\"words\"]\n",
    "for x in arr : \n",
    "    dic[x.lower()] = \"../assets/sounds/\" + x.lower() + '.wav'\n",
    "\n",
    "with open('all_words_address.json', 'w') as json_file:\n",
    "  json.dump(dic, json_file)\n",
    "dic"
   ]
  },
  {
   "cell_type": "code",
   "execution_count": null,
   "metadata": {},
   "outputs": [],
   "source": []
  }
 ],
 "metadata": {
  "kernelspec": {
   "display_name": "Python 3",
   "language": "python",
   "name": "python3"
  },
  "language_info": {
   "codemirror_mode": {
    "name": "ipython",
    "version": 3
   },
   "file_extension": ".py",
   "mimetype": "text/x-python",
   "name": "python",
   "nbconvert_exporter": "python",
   "pygments_lexer": "ipython3",
   "version": "3.7.7"
  }
 },
 "nbformat": 4,
 "nbformat_minor": 4
}
